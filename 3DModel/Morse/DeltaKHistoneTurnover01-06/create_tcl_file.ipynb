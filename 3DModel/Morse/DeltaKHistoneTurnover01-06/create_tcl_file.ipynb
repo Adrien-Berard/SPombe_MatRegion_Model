{
 "cells": [
  {
   "cell_type": "code",
   "execution_count": 27,
   "metadata": {},
   "outputs": [],
   "source": [
    "import pandas as pd\n",
    "import numpy as n"
   ]
  },
  {
   "cell_type": "markdown",
   "metadata": {},
   "source": [
    "# Load the initial configuration\n",
    "mol load pdb InitialFile.txt\n",
    "\n",
    "# Define bonds based on atom indices\n",
    "set bond_list {\n",
    "    {1 2}\n",
    "    {2 3}\n",
    "    {3 4}\n",
    "    # Add more bonds as needed\n",
    "}\n",
    "\n",
    "# Iterate over bond list and create bonds\n",
    "foreach bond $bond_list {\n",
    "    set atom1 [lindex $bond 0]\n",
    "    set atom2 [lindex $bond 1]\n",
    "    top addbond $atom1 $atom2\n",
    "}\n",
    "\n",
    "# Save the modified configuration\n",
    "mol save pdb modified_configuration.pdb\n"
   ]
  },
  {
   "cell_type": "code",
   "execution_count": 28,
   "metadata": {},
   "outputs": [],
   "source": [
    "f = open('bondsVMD.tcl', 'w')"
   ]
  },
  {
   "cell_type": "code",
   "execution_count": 29,
   "metadata": {},
   "outputs": [
    {
     "data": {
      "text/plain": [
       "16"
      ]
     },
     "execution_count": 29,
     "metadata": {},
     "output_type": "execute_result"
    }
   ],
   "source": [
    "f.write(\"# Load the initial configuration \\n\")\n",
    "f.write(\"mol load pdb InitialFile.txt\\n\\n\")\n",
    "f.write(\"# Define bonds based on atom indices\\n\")\n",
    "f.write(\"set bond_list {\\n\")"
   ]
  },
  {
   "cell_type": "code",
   "execution_count": 30,
   "metadata": {},
   "outputs": [],
   "source": [
    "for i in range(0,200):\n",
    "    f.write(\"{\")\n",
    "    f.write(f\"{i}  {i+1}\")\n",
    "    f.write(\"}\\n\")"
   ]
  },
  {
   "cell_type": "code",
   "execution_count": 31,
   "metadata": {},
   "outputs": [
    {
     "data": {
      "text/plain": [
       "43"
      ]
     },
     "execution_count": 31,
     "metadata": {},
     "output_type": "execute_result"
    }
   ],
   "source": [
    "f.write(\"\\n# Iterate over bond list and create bonds\\n\")"
   ]
  },
  {
   "cell_type": "code",
   "execution_count": 32,
   "metadata": {},
   "outputs": [],
   "source": [
    "f.close()"
   ]
  },
  {
   "cell_type": "code",
   "execution_count": 3,
   "metadata": {},
   "outputs": [
    {
     "name": "stdout",
     "output_type": "stream",
     "text": [
      "TCL script saved to compute_bonds.tcl\n"
     ]
    }
   ],
   "source": [
    "# Define the output TCL script file path\n",
    "tcl_script_path = \"compute_bonds.tcl\"\n",
    "initial_file_path = \"InitialFile.txt\"\n",
    "\n",
    "# Initialize the TCL script content\n",
    "tcl_script_content = \"\"\"\n",
    "# Load the LAMMPS trajectory file\n",
    "mol new dump.lammpstrj type lammpstrj\n",
    "\n",
    "# Set bond computation parameters\n",
    "set mol [atomselect top all]\n",
    "$mol setbonds {}\n",
    "\"\"\"\n",
    "\n",
    "# Read the InitialFile.txt to extract bonds\n",
    "with open(initial_file_path, \"r\") as initial_file:\n",
    "    lines = initial_file.readlines()\n",
    "\n",
    "# Flag to determine if we are in the Bonds section\n",
    "in_bonds_section = False\n",
    "\n",
    "for line in lines:\n",
    "    line = line.strip()\n",
    "    if line == \"Bonds\":\n",
    "        in_bonds_section = True\n",
    "        continue\n",
    "    if in_bonds_section:\n",
    "        if line == \"\\n\":\n",
    "            break\n",
    "        bond_data = line.split()\n",
    "        if len(bond_data) < 4:\n",
    "            continue\n",
    "        # Extract atom1 and atom2 from the bond definition\n",
    "        atom1 = bond_data[2]\n",
    "        atom2 = bond_data[3]\n",
    "        tcl_script_content += f\"\"\"\n",
    "# Add bond between atom {atom1} and atom {atom2}\n",
    "mol addbond {atom1} {atom2}\n",
    "\"\"\"\n",
    "\n",
    "# Save the TCL script to the specified file\n",
    "with open(tcl_script_path, \"w\") as tcl_script_file:\n",
    "    tcl_script_file.write(tcl_script_content)\n",
    "\n",
    "print(f\"TCL script saved to {tcl_script_path}\")\n"
   ]
  },
  {
   "cell_type": "code",
   "execution_count": null,
   "metadata": {},
   "outputs": [],
   "source": []
  }
 ],
 "metadata": {
  "kernelspec": {
   "display_name": "Python 3",
   "language": "python",
   "name": "python3"
  },
  "language_info": {
   "codemirror_mode": {
    "name": "ipython",
    "version": 3
   },
   "file_extension": ".py",
   "mimetype": "text/x-python",
   "name": "python",
   "nbconvert_exporter": "python",
   "pygments_lexer": "ipython3",
   "version": "3.12.1"
  }
 },
 "nbformat": 4,
 "nbformat_minor": 2
}
