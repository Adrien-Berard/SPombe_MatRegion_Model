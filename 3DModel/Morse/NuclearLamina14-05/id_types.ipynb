{
 "cells": [
  {
   "cell_type": "code",
   "execution_count": 17,
   "metadata": {},
   "outputs": [],
   "source": [
    "from matplotlib import pyplot as plt\n",
    "import pandas as pd\n",
    "import numpy as np"
   ]
  },
  {
   "cell_type": "code",
   "execution_count": 18,
   "metadata": {},
   "outputs": [],
   "source": [
    "df = pd.read_csv('id_and_type.dat',header=None)"
   ]
  },
  {
   "cell_type": "code",
   "execution_count": 19,
   "metadata": {},
   "outputs": [
    {
     "data": {
      "text/html": [
       "<div>\n",
       "<style scoped>\n",
       "    .dataframe tbody tr th:only-of-type {\n",
       "        vertical-align: middle;\n",
       "    }\n",
       "\n",
       "    .dataframe tbody tr th {\n",
       "        vertical-align: top;\n",
       "    }\n",
       "\n",
       "    .dataframe thead th {\n",
       "        text-align: right;\n",
       "    }\n",
       "</style>\n",
       "<table border=\"1\" class=\"dataframe\">\n",
       "  <thead>\n",
       "    <tr style=\"text-align: right;\">\n",
       "      <th></th>\n",
       "      <th>0</th>\n",
       "    </tr>\n",
       "  </thead>\n",
       "  <tbody>\n",
       "    <tr>\n",
       "      <th>0</th>\n",
       "      <td>ITEM: TIMESTEP</td>\n",
       "    </tr>\n",
       "    <tr>\n",
       "      <th>1</th>\n",
       "      <td>100000</td>\n",
       "    </tr>\n",
       "    <tr>\n",
       "      <th>2</th>\n",
       "      <td>ITEM: NUMBER OF ATOMS</td>\n",
       "    </tr>\n",
       "    <tr>\n",
       "      <th>3</th>\n",
       "      <td>200</td>\n",
       "    </tr>\n",
       "    <tr>\n",
       "      <th>4</th>\n",
       "      <td>ITEM: BOX BOUNDS pp pp pp</td>\n",
       "    </tr>\n",
       "  </tbody>\n",
       "</table>\n",
       "</div>"
      ],
      "text/plain": [
       "                           0\n",
       "0             ITEM: TIMESTEP\n",
       "1                     100000\n",
       "2      ITEM: NUMBER OF ATOMS\n",
       "3                        200\n",
       "4  ITEM: BOX BOUNDS pp pp pp"
      ]
     },
     "execution_count": 19,
     "metadata": {},
     "output_type": "execute_result"
    }
   ],
   "source": [
    "df.head()"
   ]
  },
  {
   "cell_type": "code",
   "execution_count": 20,
   "metadata": {},
   "outputs": [],
   "source": [
    "for id in range(df.size):\n",
    "    if id % 200 == 0:\n",
    "        df.drop(range(id, id+9), inplace=True)\n"
   ]
  },
  {
   "cell_type": "code",
   "execution_count": 21,
   "metadata": {},
   "outputs": [],
   "source": [
    "df = df.reset_index(drop=True)"
   ]
  },
  {
   "cell_type": "code",
   "execution_count": 22,
   "metadata": {},
   "outputs": [
    {
     "name": "stdout",
     "output_type": "stream",
     "text": [
      "         id type\n",
      "0        15    1\n",
      "1        16    3\n",
      "2        17    1\n",
      "3        11    2\n",
      "4        12    2\n",
      "...     ...  ...\n",
      "409795  134    3\n",
      "409796  139    2\n",
      "409797   37    2\n",
      "409798  132    3\n",
      "409799  131    2\n",
      "\n",
      "[409800 rows x 2 columns]\n"
     ]
    }
   ],
   "source": [
    "import pandas as pd\n",
    "\n",
    "# Initialize an empty list to store data frames\n",
    "data_frames = []\n",
    "\n",
    "# Open the file\n",
    "with open('id_and_type.dat', 'r') as file:\n",
    "    # Read all lines\n",
    "    lines = file.readlines()\n",
    "    \n",
    "    # Initialize a flag to track whether to skip lines\n",
    "    skip = False\n",
    "    \n",
    "    # Initialize a list to store atom data\n",
    "    atom_data = []\n",
    "    \n",
    "    # Iterate over lines\n",
    "    for line in lines:\n",
    "        # If line starts with 'ITEM' and ends with \"ITEM: ATOMS id type\", set skip flag to True\n",
    "        if line.startswith('ITEM: TIMESTEP') :\n",
    "            skip = True\n",
    "            continue  # Skip to the next iteration\n",
    "        \n",
    "        # If line starts with \"ITEM: ATOMS id type\", reset skip flag and process atom data\n",
    "        if line.startswith('ITEM: ATOMS id type'):\n",
    "            skip = False\n",
    "            # Process atom data\n",
    "            df = pd.DataFrame(atom_data, columns=['id', 'type'])\n",
    "            data_frames.append(df)\n",
    "            atom_data = []  # Reset atom_data list for the next block\n",
    "            continue  # Skip to the next iteration\n",
    "        \n",
    "        # If skip flag is True, continue to the next iteration\n",
    "        if skip:\n",
    "            continue\n",
    "        \n",
    "        # If line is not skipped, process atom data\n",
    "        atom_data.append(line.strip().split())\n",
    "\n",
    "# Concatenate all DataFrames into a single DataFrame\n",
    "final_data = pd.concat(data_frames, ignore_index=True)\n",
    "\n",
    "print(final_data)\n"
   ]
  },
  {
   "cell_type": "code",
   "execution_count": 23,
   "metadata": {},
   "outputs": [
    {
     "name": "stdout",
     "output_type": "stream",
     "text": [
      "         id type\n",
      "0         1    2\n",
      "1         2    1\n",
      "2         3    2\n",
      "3         4    3\n",
      "4         5    2\n",
      "...     ...  ...\n",
      "409795  196    1\n",
      "409796  197    2\n",
      "409797  198    2\n",
      "409798  199    2\n",
      "409799  200    3\n",
      "\n",
      "[409800 rows x 2 columns]\n"
     ]
    },
    {
     "name": "stderr",
     "output_type": "stream",
     "text": [
      "/var/folders/jg/gqqb9c4s6qd3ftqhm6____m80000gn/T/ipykernel_11041/3775279872.py:15: DeprecationWarning: DataFrameGroupBy.apply operated on the grouping columns. This behavior is deprecated, and in a future version of pandas the grouping columns will be excluded from the operation. Either pass `include_groups=False` to exclude the groupings or explicitly select the grouping columns after groupby to silence this warning.\n",
      "  data = data.groupby('block').apply(reorder_within_block)\n"
     ]
    }
   ],
   "source": [
    "data = final_data\n",
    "# Calculate the block number for each row\n",
    "data['block'] = (data.index // 200) + 1\n",
    "\n",
    "# Calculate the row number within each block\n",
    "data['row_in_block'] = (data.index % 200) + 1\n",
    "\n",
    "# Function to reorder the rows within each block\n",
    "def reorder_within_block(group):\n",
    "    group['id'] = group['id'].astype(int)  # Convert 'id' column to integers\n",
    "    group = group.sort_values(by='id')  # Sort by 'id' column\n",
    "    return group\n",
    "\n",
    "# Apply the function to each block\n",
    "data = data.groupby('block').apply(reorder_within_block)\n",
    "\n",
    "# Drop the 'block' and 'row_in_block' columns\n",
    "data.drop(columns=['block', 'row_in_block'], inplace=True)\n",
    "\n",
    "# Reset the index\n",
    "data.reset_index(drop=True, inplace=True)\n",
    "\n",
    "print(data)"
   ]
  },
  {
   "cell_type": "code",
   "execution_count": 24,
   "metadata": {},
   "outputs": [
    {
     "data": {
      "image/png": "[encoded data removed]",
      "text/plain": [
       "<Figure size 640x480 with 1 Axes>"
      ]
     },
     "metadata": {},
     "output_type": "display_data"
    }
   ],
   "source": [
    "import numpy as np\n",
    "import matplotlib.pyplot as plt\n",
    "from matplotlib.colors import ListedColormap\n",
    "\n",
    "# Assuming 'data' is your DataFrame containing chromatin states\n",
    "df = data\n",
    "length_chro = 200\n",
    "frames_to_show = len(df) // length_chro  # Calculate the number of complete blocks of 200 rows\n",
    "\n",
    "# Create an array to store each row as a separate column\n",
    "chromatin_numeric = np.zeros((length_chro, frames_to_show))\n",
    "\n",
    "# Create a colormap with distinct colors for each state\n",
    "cmap = ListedColormap(['b', 'y', 'r'])\n",
    "labels = ['A', 'U', 'M']\n",
    "\n",
    "# Iterate over each frame to populate chromatin_numeric\n",
    "for col in range(frames_to_show):\n",
    "    start_index = col * 200\n",
    "    end_index = (col + 1) * 200\n",
    "    chromatin_state = df.iloc[start_index:end_index]\n",
    "    chromatin_values = chromatin_state['type'].values.astype(float)\n",
    "    chromatin_numeric[:, col] = chromatin_values\n",
    "\n",
    "# Plot the chromatin states using the colormap\n",
    "plt.imshow(chromatin_numeric, cmap=cmap, aspect='auto', interpolation='none')\n",
    "plt.title('Chromatin State Colormap')\n",
    "plt.xlabel('Frame')\n",
    "plt.ylabel('Chromatin Position')\n",
    "plt.yticks([61, 90, 123, 130])  # Adjust y-axis ticks for better visualization\n",
    "# Add a legend with the corresponding labels\n",
    "plt.legend(handles=[plt.Rectangle((0,0),1,1, color=cmap(i)) for i in range(len(labels))], labels=labels)\n",
    "\n",
    "\n",
    "\n",
    "# Display the plot\n",
    "plt.show()\n"
   ]
  },
  {
   "cell_type": "code",
   "execution_count": null,
   "metadata": {},
   "outputs": [],
   "source": []
  }
 ],
 "metadata": {
  "kernelspec": {
   "display_name": "myenv2",
   "language": "python",
   "name": "python3"
  },
  "language_info": {
   "codemirror_mode": {
    "name": "ipython",
    "version": 3
   },
   "file_extension": ".py",
   "mimetype": "text/x-python",
   "name": "python",
   "nbconvert_exporter": "python",
   "pygments_lexer": "ipython3",
   "version": "3.12.1"
  }
 },
 "nbformat": 4,
 "nbformat_minor": 2
}
