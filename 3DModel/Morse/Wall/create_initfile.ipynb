{
 "cells": [
  {
   "cell_type": "code",
   "execution_count": 1,
   "metadata": {},
   "outputs": [],
   "source": [
    "import numpy as np\n",
    "f = open('InitialFile.txt','w')\n",
    "f.write('# Initialisation file of the particles\\n\\n')\n",
    "n_monomers = 200\n",
    "n_enzymes_AU = 0\n",
    "n_enzymes_UM = 00\n",
    "n_enzymes_MU = 00\n",
    "n_enzymes_UA = 00\n",
    "n_bonds = n_monomers -1\n",
    "n_angles = 0\n",
    "n_dihedral = 0\n",
    "f.write(f'{n_monomers + n_enzymes_UA + n_enzymes_UM + n_enzymes_MU + n_enzymes_AU}  atoms\\n')\n",
    "f.write(f'{n_bonds}  bonds\\n')\n",
    "f.write(f'{n_angles}  angles\\n')\n",
    "f.write(f'{n_dihedral}  dihedrals\\n\\n')\n",
    "f.write('3  atom types\\n')\n",
    "f.write('2  bond types\\n')\n",
    "f.write('0  angle types\\n')\n",
    "f.write('0  dihedral types\\n\\n')\n",
    "f.write('0.0000   300.5000 xlo xhi \\n0.0000   358.5000 ylo yhi \\n0.0000   358.5000 zlo zhi\\n\\n')\n",
    "f.write('Atom Type Labels\\n\\n')\n",
    "f.write('1    A\\n')\n",
    "f.write('2    U\\n')\n",
    "f.write('3    M\\n\\n')\n",
    "f.write('Bond Type Labels\\n\\n')\n",
    "f.write('1    Normal\\n')\n",
    "f.write('2    MM\\n\\n')\n",
    "\n",
    "\n",
    "f.write('Masses\\n\\n')\n",
    "\n",
    "f.write('1    1.00 \\n')\n",
    "f.write('2    1.00 \\n')\n",
    "f.write('3    1.00 \\n\\n')\n",
    "\n",
    "monomer_types = np.random.choice(['A','U','M'],n_monomers)\n",
    "\n",
    "f.write('Atoms\\n\\n')\n",
    "\n",
    "# Generate circle-shaped structure\n",
    "radius = 10  # Radius of the circle\n",
    "center_x = 179.25\n",
    "center_y = 179.25\n",
    "\n",
    "for i in range(n_monomers):\n",
    "\n",
    "    f.write(f'  {i+1}  1  {monomer_types[i]}  {i * 1.5}  {i * 1.5}  {i * 1.5}\\n')\n",
    "\n",
    "f.write('\\nBonds\\n\\n')\n",
    "for i in range(n_bonds):\n",
    "    if monomer_types[i] == 'M' and monomer_types[i+1] == 'M':\n",
    "        type = 'MM'\n",
    "        f.write(f'  {i+1}  {type}  {i+1}  {i+2}\\n')\n",
    "    else:\n",
    "        type = 'Normal'\n",
    "        f.write(f'  {i+1}  {type}  {i+1}  {i+2}\\n')\n",
    "\n",
    "f.close()\n",
    "\n"
   ]
  },
  {
   "cell_type": "code",
   "execution_count": null,
   "metadata": {},
   "outputs": [],
   "source": []
  }
 ],
 "metadata": {
  "kernelspec": {
   "display_name": "myenv2",
   "language": "python",
   "name": "python3"
  },
  "language_info": {
   "codemirror_mode": {
    "name": "ipython",
    "version": 3
   },
   "file_extension": ".py",
   "mimetype": "text/x-python",
   "name": "python",
   "nbconvert_exporter": "python",
   "pygments_lexer": "ipython3",
   "version": "3.12.1"
  }
 },
 "nbformat": 4,
 "nbformat_minor": 2
}
