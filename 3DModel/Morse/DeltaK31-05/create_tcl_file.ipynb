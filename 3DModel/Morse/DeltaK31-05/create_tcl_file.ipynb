{
 "cells": [
  {
   "cell_type": "code",
   "execution_count": 27,
   "metadata": {},
   "outputs": [],
   "source": [
    "import pandas as pd\n",
    "import numpy as n"
   ]
  },
  {
   "cell_type": "markdown",
   "metadata": {},
   "source": [
    "# Load the initial configuration\n",
    "mol load pdb InitialFile.txt\n",
    "\n",
    "# Define bonds based on atom indices\n",
    "set bond_list {\n",
    "    {1 2}\n",
    "    {2 3}\n",
    "    {3 4}\n",
    "    # Add more bonds as needed\n",
    "}\n",
    "\n",
    "# Iterate over bond list and create bonds\n",
    "foreach bond $bond_list {\n",
    "    set atom1 [lindex $bond 0]\n",
    "    set atom2 [lindex $bond 1]\n",
    "    top addbond $atom1 $atom2\n",
    "}\n",
    "\n",
    "# Save the modified configuration\n",
    "mol save pdb modified_configuration.pdb\n"
   ]
  },
  {
   "cell_type": "code",
   "execution_count": 28,
   "metadata": {},
   "outputs": [],
   "source": [
    "f = open('bondsVMD.tcl', 'w')"
   ]
  },
  {
   "cell_type": "code",
   "execution_count": 29,
   "metadata": {},
   "outputs": [
    {
     "data": {
      "text/plain": [
       "16"
      ]
     },
     "execution_count": 29,
     "metadata": {},
     "output_type": "execute_result"
    }
   ],
   "source": [
    "f.write(\"# Load the initial configuration \\n\")\n",
    "f.write(\"mol load pdb InitialFile.txt\\n\\n\")\n",
    "f.write(\"# Define bonds based on atom indices\\n\")\n",
    "f.write(\"set bond_list {\\n\")"
   ]
  },
  {
   "cell_type": "code",
   "execution_count": 30,
   "metadata": {},
   "outputs": [],
   "source": [
    "for i in range(0,200):\n",
    "    f.write(\"{\")\n",
    "    f.write(f\"{i}  {i+1}\")\n",
    "    f.write(\"}\\n\")"
   ]
  },
  {
   "cell_type": "code",
   "execution_count": 31,
   "metadata": {},
   "outputs": [
    {
     "data": {
      "text/plain": [
       "43"
      ]
     },
     "execution_count": 31,
     "metadata": {},
     "output_type": "execute_result"
    }
   ],
   "source": [
    "f.write(\"\\n# Iterate over bond list and create bonds\\n\")"
   ]
  },
  {
   "cell_type": "code",
   "execution_count": 32,
   "metadata": {},
   "outputs": [],
   "source": [
    "f.close()"
   ]
  },
  {
   "cell_type": "code",
   "execution_count": null,
   "metadata": {},
   "outputs": [],
   "source": []
  }
 ],
 "metadata": {
  "kernelspec": {
   "display_name": "Python 3",
   "language": "python",
   "name": "python3"
  },
  "language_info": {
   "codemirror_mode": {
    "name": "ipython",
    "version": 3
   },
   "file_extension": ".py",
   "mimetype": "text/x-python",
   "name": "python",
   "nbconvert_exporter": "python",
   "pygments_lexer": "ipython3",
   "version": "3.10.12"
  }
 },
 "nbformat": 4,
 "nbformat_minor": 2
}
